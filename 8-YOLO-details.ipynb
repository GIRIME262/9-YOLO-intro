{
 "cells": [
  {
   "cell_type": "markdown",
   "metadata": {},
   "source": [
    "# Papers\n",
    "YOLO: https://arxiv.org/pdf/1506.02640.pdf\n",
    "\n",
    "YOLOv2 (YOLO9000): https://arxiv.org/abs/1612.08242\n",
    "\n",
    "YOLOv3: https://arxiv.org/pdf/1804.02767.pdf"
   ]
  },
  {
   "cell_type": "markdown",
   "metadata": {},
   "source": [
    "# Datasets:\n",
    "\n",
    "COCO: http://cocodataset.org/#home\n",
    "\n",
    "PASCAL VOC: http://host.robots.ox.ac.uk/pascal/VOC/\n",
    "\n",
    "ImageNet: http://image-net.org/download\n",
    "\n",
    "Kaggle (ImageNet): https://www.kaggle.com/c/imagenet-object-localization-challenge"
   ]
  },
  {
   "cell_type": "markdown",
   "metadata": {},
   "source": [
    "# Muy buen resumen:\n",
    "https://medium.com/@jonathan_hui/real-time-object-detection-with-yolo-yolov2-28b1b93e2088"
   ]
  }
 ],
 "metadata": {
  "kernelspec": {
   "display_name": "Python 3",
   "language": "python",
   "name": "python3"
  },
  "language_info": {
   "codemirror_mode": {
    "name": "ipython",
    "version": 3
   },
   "file_extension": ".py",
   "mimetype": "text/x-python",
   "name": "python",
   "nbconvert_exporter": "python",
   "pygments_lexer": "ipython3",
   "version": "3.6.6"
  }
 },
 "nbformat": 4,
 "nbformat_minor": 2
}
